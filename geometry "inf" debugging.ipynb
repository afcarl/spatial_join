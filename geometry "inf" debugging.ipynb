{
 "cells": [
  {
   "cell_type": "code",
   "execution_count": 16,
   "metadata": {
    "collapsed": true
   },
   "outputs": [],
   "source": [
    "import intersect\n",
    "import pandas as pd\n",
    "import geopandas as gpd\n",
    "import fiona.crs"
   ]
  },
  {
   "cell_type": "code",
   "execution_count": 4,
   "metadata": {
    "collapsed": false
   },
   "outputs": [],
   "source": [
    "raw_people = pd.read_csv(\"/Users/asiega/Desktop/CVHpeople.csv\")"
   ]
  },
  {
   "cell_type": "code",
   "execution_count": 5,
   "metadata": {
    "collapsed": false
   },
   "outputs": [
    {
     "data": {
      "text/html": [
       "<div>\n",
       "<table border=\"1\" class=\"dataframe\">\n",
       "  <thead>\n",
       "    <tr style=\"text-align: right;\">\n",
       "      <th></th>\n",
       "      <th>Internal Contact ID</th>\n",
       "      <th>Latitude</th>\n",
       "      <th>Longitude</th>\n",
       "    </tr>\n",
       "  </thead>\n",
       "  <tbody>\n",
       "    <tr>\n",
       "      <th>0</th>\n",
       "      <td>5</td>\n",
       "      <td>40.687482</td>\n",
       "      <td>-73.963384</td>\n",
       "    </tr>\n",
       "    <tr>\n",
       "      <th>1</th>\n",
       "      <td>226</td>\n",
       "      <td>40.769909</td>\n",
       "      <td>-73.992111</td>\n",
       "    </tr>\n",
       "    <tr>\n",
       "      <th>2</th>\n",
       "      <td>228</td>\n",
       "      <td>40.746794</td>\n",
       "      <td>-73.982509</td>\n",
       "    </tr>\n",
       "    <tr>\n",
       "      <th>3</th>\n",
       "      <td>230</td>\n",
       "      <td>40.823687</td>\n",
       "      <td>-73.868344</td>\n",
       "    </tr>\n",
       "    <tr>\n",
       "      <th>4</th>\n",
       "      <td>232</td>\n",
       "      <td>40.760444</td>\n",
       "      <td>-73.973270</td>\n",
       "    </tr>\n",
       "  </tbody>\n",
       "</table>\n",
       "</div>"
      ],
      "text/plain": [
       "   Internal Contact ID   Latitude  Longitude\n",
       "0                    5  40.687482 -73.963384\n",
       "1                  226  40.769909 -73.992111\n",
       "2                  228  40.746794 -73.982509\n",
       "3                  230  40.823687 -73.868344\n",
       "4                  232  40.760444 -73.973270"
      ]
     },
     "execution_count": 5,
     "metadata": {},
     "output_type": "execute_result"
    }
   ],
   "source": [
    "raw_people.head()"
   ]
  },
  {
   "cell_type": "code",
   "execution_count": 8,
   "metadata": {
    "collapsed": false
   },
   "outputs": [],
   "source": [
    "people = intersect.people_df(\"/Users/asiega/Desktop/CVHpeople.csv\")"
   ]
  },
  {
   "cell_type": "code",
   "execution_count": 9,
   "metadata": {
    "collapsed": false
   },
   "outputs": [
    {
     "data": {
      "text/html": [
       "<div>\n",
       "<table border=\"1\" class=\"dataframe\">\n",
       "  <thead>\n",
       "    <tr style=\"text-align: right;\">\n",
       "      <th></th>\n",
       "      <th>Internal Contact ID</th>\n",
       "      <th>Latitude</th>\n",
       "      <th>Longitude</th>\n",
       "      <th>geometry</th>\n",
       "    </tr>\n",
       "  </thead>\n",
       "  <tbody>\n",
       "    <tr>\n",
       "      <th>0</th>\n",
       "      <td>5</td>\n",
       "      <td>40.687482</td>\n",
       "      <td>-73.963384</td>\n",
       "      <td>POINT (-73.96338399999999 40.687482)</td>\n",
       "    </tr>\n",
       "    <tr>\n",
       "      <th>1</th>\n",
       "      <td>226</td>\n",
       "      <td>40.769909</td>\n",
       "      <td>-73.992111</td>\n",
       "      <td>POINT (-73.99211099999999 40.76990900000001)</td>\n",
       "    </tr>\n",
       "    <tr>\n",
       "      <th>2</th>\n",
       "      <td>228</td>\n",
       "      <td>40.746794</td>\n",
       "      <td>-73.982509</td>\n",
       "      <td>POINT (-73.9825089 40.7467938)</td>\n",
       "    </tr>\n",
       "    <tr>\n",
       "      <th>3</th>\n",
       "      <td>230</td>\n",
       "      <td>40.823687</td>\n",
       "      <td>-73.868344</td>\n",
       "      <td>POINT (-73.86834350000001 40.8236871)</td>\n",
       "    </tr>\n",
       "    <tr>\n",
       "      <th>4</th>\n",
       "      <td>232</td>\n",
       "      <td>40.760444</td>\n",
       "      <td>-73.973270</td>\n",
       "      <td>POINT (-73.97327 40.760444)</td>\n",
       "    </tr>\n",
       "  </tbody>\n",
       "</table>\n",
       "</div>"
      ],
      "text/plain": [
       "   Internal Contact ID   Latitude  Longitude  \\\n",
       "0                    5  40.687482 -73.963384   \n",
       "1                  226  40.769909 -73.992111   \n",
       "2                  228  40.746794 -73.982509   \n",
       "3                  230  40.823687 -73.868344   \n",
       "4                  232  40.760444 -73.973270   \n",
       "\n",
       "                                       geometry  \n",
       "0          POINT (-73.96338399999999 40.687482)  \n",
       "1  POINT (-73.99211099999999 40.76990900000001)  \n",
       "2                POINT (-73.9825089 40.7467938)  \n",
       "3         POINT (-73.86834350000001 40.8236871)  \n",
       "4                   POINT (-73.97327 40.760444)  "
      ]
     },
     "execution_count": 9,
     "metadata": {},
     "output_type": "execute_result"
    }
   ],
   "source": [
    "people.head()"
   ]
  },
  {
   "cell_type": "code",
   "execution_count": 27,
   "metadata": {
    "collapsed": true
   },
   "outputs": [],
   "source": [
    "raw_places = gpd.read_file(\"/Users/asiega/Desktop/NYCHA.geojson\")"
   ]
  },
  {
   "cell_type": "code",
   "execution_count": 30,
   "metadata": {
    "collapsed": false
   },
   "outputs": [
    {
     "data": {
      "text/html": [
       "<div>\n",
       "<table border=\"1\" class=\"dataframe\">\n",
       "  <thead>\n",
       "    <tr style=\"text-align: right;\">\n",
       "      <th></th>\n",
       "      <th>BOROUGH</th>\n",
       "      <th>CUR_UNIT11</th>\n",
       "      <th>DEVELOPMEN</th>\n",
       "      <th>NONRES_BLD</th>\n",
       "      <th>RES_BLDG</th>\n",
       "      <th>TDS_NUM</th>\n",
       "      <th>TOT_POP11</th>\n",
       "      <th>geometry</th>\n",
       "    </tr>\n",
       "  </thead>\n",
       "  <tbody>\n",
       "    <tr>\n",
       "      <th>0</th>\n",
       "      <td>VARIOUS</td>\n",
       "      <td>16</td>\n",
       "      <td>FHA REPOSSESSED HOUSES (GROUP III)</td>\n",
       "      <td>0</td>\n",
       "      <td>18</td>\n",
       "      <td>213</td>\n",
       "      <td>40</td>\n",
       "      <td>(POLYGON ((1002120 179553, 1002021 179544, 100...</td>\n",
       "    </tr>\n",
       "    <tr>\n",
       "      <th>1</th>\n",
       "      <td>VARIOUS</td>\n",
       "      <td>19</td>\n",
       "      <td>FHA REPOSSESSED HOUSES (GROUP IV)</td>\n",
       "      <td>0</td>\n",
       "      <td>22</td>\n",
       "      <td>226</td>\n",
       "      <td>60</td>\n",
       "      <td>(POLYGON ((1003910 180501, 1003835 180437, 100...</td>\n",
       "    </tr>\n",
       "    <tr>\n",
       "      <th>2</th>\n",
       "      <td>VARIOUS</td>\n",
       "      <td>40</td>\n",
       "      <td>FHA REPOSSESSED HOUSES (GROUP V)</td>\n",
       "      <td>0</td>\n",
       "      <td>50</td>\n",
       "      <td>260</td>\n",
       "      <td>103</td>\n",
       "      <td>(POLYGON ((1005655 178293, 1005640 178281, 100...</td>\n",
       "    </tr>\n",
       "    <tr>\n",
       "      <th>3</th>\n",
       "      <td>QUEENS</td>\n",
       "      <td>9</td>\n",
       "      <td>FHA REPOSSESSED HOUSES (GROUP VI)</td>\n",
       "      <td>0</td>\n",
       "      <td>14</td>\n",
       "      <td>273</td>\n",
       "      <td>22</td>\n",
       "      <td>(POLYGON ((1046847 181178, 1046756 181125, 104...</td>\n",
       "    </tr>\n",
       "    <tr>\n",
       "      <th>4</th>\n",
       "      <td>QUEENS</td>\n",
       "      <td>11</td>\n",
       "      <td>FHA REPOSSESSED HOUSES (GROUP VII)</td>\n",
       "      <td>0</td>\n",
       "      <td>17</td>\n",
       "      <td>274</td>\n",
       "      <td>22</td>\n",
       "      <td>(POLYGON ((1048186 180368, 1048087 180357, 104...</td>\n",
       "    </tr>\n",
       "  </tbody>\n",
       "</table>\n",
       "</div>"
      ],
      "text/plain": [
       "   BOROUGH  CUR_UNIT11                          DEVELOPMEN  NONRES_BLD  \\\n",
       "0  VARIOUS          16  FHA REPOSSESSED HOUSES (GROUP III)           0   \n",
       "1  VARIOUS          19   FHA REPOSSESSED HOUSES (GROUP IV)           0   \n",
       "2  VARIOUS          40    FHA REPOSSESSED HOUSES (GROUP V)           0   \n",
       "3   QUEENS           9   FHA REPOSSESSED HOUSES (GROUP VI)           0   \n",
       "4   QUEENS          11  FHA REPOSSESSED HOUSES (GROUP VII)           0   \n",
       "\n",
       "   RES_BLDG TDS_NUM  TOT_POP11  \\\n",
       "0        18     213         40   \n",
       "1        22     226         60   \n",
       "2        50     260        103   \n",
       "3        14     273         22   \n",
       "4        17     274         22   \n",
       "\n",
       "                                            geometry  \n",
       "0  (POLYGON ((1002120 179553, 1002021 179544, 100...  \n",
       "1  (POLYGON ((1003910 180501, 1003835 180437, 100...  \n",
       "2  (POLYGON ((1005655 178293, 1005640 178281, 100...  \n",
       "3  (POLYGON ((1046847 181178, 1046756 181125, 104...  \n",
       "4  (POLYGON ((1048186 180368, 1048087 180357, 104...  "
      ]
     },
     "execution_count": 30,
     "metadata": {},
     "output_type": "execute_result"
    }
   ],
   "source": [
    "raw_places.head()"
   ]
  },
  {
   "cell_type": "code",
   "execution_count": 36,
   "metadata": {
    "collapsed": false
   },
   "outputs": [],
   "source": [
    "places = raw_places.to_crs(fiona.crs.from_epsg(2263))"
   ]
  },
  {
   "cell_type": "code",
   "execution_count": 41,
   "metadata": {
    "collapsed": false
   },
   "outputs": [
    {
     "data": {
      "text/plain": [
       "0    (POLYGON ((inf inf, inf inf, inf inf, inf inf,...\n",
       "1    (POLYGON ((inf inf, inf inf, inf inf, inf inf,...\n",
       "2    (POLYGON ((inf inf, inf inf, inf inf, inf inf,...\n",
       "3    (POLYGON ((inf inf, inf inf, inf inf, inf inf,...\n",
       "4    (POLYGON ((inf inf, inf inf, inf inf, inf inf,...\n",
       "Name: geometry, dtype: object"
      ]
     },
     "execution_count": 41,
     "metadata": {},
     "output_type": "execute_result"
    }
   ],
   "source": [
    "places[\"geometry\"].head()\n",
    "# if you explore here, you notice that with to_crs, every polygon value becomes \"inf\""
   ]
  },
  {
   "cell_type": "code",
   "execution_count": null,
   "metadata": {
    "collapsed": true
   },
   "outputs": [],
   "source": []
  }
 ],
 "metadata": {
  "anaconda-cloud": {},
  "kernelspec": {
   "display_name": "Python [default]",
   "language": "python",
   "name": "python2"
  },
  "language_info": {
   "codemirror_mode": {
    "name": "ipython",
    "version": 2
   },
   "file_extension": ".py",
   "mimetype": "text/x-python",
   "name": "python",
   "nbconvert_exporter": "python",
   "pygments_lexer": "ipython2",
   "version": "2.7.12"
  }
 },
 "nbformat": 4,
 "nbformat_minor": 1
}
