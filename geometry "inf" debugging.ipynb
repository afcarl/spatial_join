{
 "cells": [
  {
   "cell_type": "code",
   "execution_count": 1,
   "metadata": {
    "collapsed": true
   },
   "outputs": [],
   "source": [
    "import intersect\n",
    "import pandas as pd\n",
    "import geopandas as gpd\n",
    "import fiona.crs\n",
    "from shapely.geometry.polygon import Polygon\n",
    "from shapely.geometry.multipolygon import MultiPolygon"
   ]
  },
  {
   "cell_type": "code",
   "execution_count": 2,
   "metadata": {
    "collapsed": true
   },
   "outputs": [],
   "source": [
    "EPSG = 2263\n",
    "\n",
    "CRS = {\n",
    "    'proj': 'latlong',\n",
    "    'init': 'epsg:{:d}'.format(EPSG)\n",
    "}"
   ]
  },
  {
   "cell_type": "code",
   "execution_count": 20,
   "metadata": {
    "collapsed": true
   },
   "outputs": [],
   "source": [
    "def people_df(path):\n",
    "    df = pd.read_csv(path)\n",
    "    df['geometry'] = df.apply(lambda x: intersect.to_point(x), axis=1)\n",
    "    points = gpd.GeoDataFrame(df, geometry='geometry')\n",
    "    points.crs = CRS\n",
    "    return points"
   ]
  },
  {
   "cell_type": "code",
   "execution_count": 21,
   "metadata": {
    "collapsed": false
   },
   "outputs": [
    {
     "data": {
      "text/html": [
       "<div>\n",
       "<table border=\"1\" class=\"dataframe\">\n",
       "  <thead>\n",
       "    <tr style=\"text-align: right;\">\n",
       "      <th></th>\n",
       "      <th>Internal Contact ID</th>\n",
       "      <th>Latitude</th>\n",
       "      <th>Longitude</th>\n",
       "      <th>geometry</th>\n",
       "    </tr>\n",
       "  </thead>\n",
       "  <tbody>\n",
       "    <tr>\n",
       "      <th>0</th>\n",
       "      <td>5</td>\n",
       "      <td>40.687482</td>\n",
       "      <td>-73.963384</td>\n",
       "      <td>POINT (-73.96338399999999 40.687482)</td>\n",
       "    </tr>\n",
       "    <tr>\n",
       "      <th>1</th>\n",
       "      <td>226</td>\n",
       "      <td>40.769909</td>\n",
       "      <td>-73.992111</td>\n",
       "      <td>POINT (-73.99211099999999 40.76990900000001)</td>\n",
       "    </tr>\n",
       "  </tbody>\n",
       "</table>\n",
       "</div>"
      ],
      "text/plain": [
       "   Internal Contact ID   Latitude  Longitude  \\\n",
       "0                    5  40.687482 -73.963384   \n",
       "1                  226  40.769909 -73.992111   \n",
       "\n",
       "                                       geometry  \n",
       "0          POINT (-73.96338399999999 40.687482)  \n",
       "1  POINT (-73.99211099999999 40.76990900000001)  "
      ]
     },
     "execution_count": 21,
     "metadata": {},
     "output_type": "execute_result"
    }
   ],
   "source": [
    "people_df(\"/Users/asiega/Desktop/CVHpeople.csv\").head(2)"
   ]
  },
  {
   "cell_type": "code",
   "execution_count": 18,
   "metadata": {
    "collapsed": false
   },
   "outputs": [
    {
     "data": {
      "text/html": [
       "<div>\n",
       "<table border=\"1\" class=\"dataframe\">\n",
       "  <thead>\n",
       "    <tr style=\"text-align: right;\">\n",
       "      <th></th>\n",
       "      <th>Internal Contact ID</th>\n",
       "      <th>Latitude</th>\n",
       "      <th>Longitude</th>\n",
       "      <th>geometry</th>\n",
       "    </tr>\n",
       "  </thead>\n",
       "  <tbody>\n",
       "    <tr>\n",
       "      <th>0</th>\n",
       "      <td>5</td>\n",
       "      <td>40.687482</td>\n",
       "      <td>-73.963384</td>\n",
       "      <td>POINT (-73.96338399999999 40.687482)</td>\n",
       "    </tr>\n",
       "    <tr>\n",
       "      <th>1</th>\n",
       "      <td>226</td>\n",
       "      <td>40.769909</td>\n",
       "      <td>-73.992111</td>\n",
       "      <td>POINT (-73.99211099999999 40.76990900000001)</td>\n",
       "    </tr>\n",
       "  </tbody>\n",
       "</table>\n",
       "</div>"
      ],
      "text/plain": [
       "   Internal Contact ID   Latitude  Longitude  \\\n",
       "0                    5  40.687482 -73.963384   \n",
       "1                  226  40.769909 -73.992111   \n",
       "\n",
       "                                       geometry  \n",
       "0          POINT (-73.96338399999999 40.687482)  \n",
       "1  POINT (-73.99211099999999 40.76990900000001)  "
      ]
     },
     "execution_count": 18,
     "metadata": {},
     "output_type": "execute_result"
    }
   ],
   "source": [
    "people.head(2)"
   ]
  },
  {
   "cell_type": "code",
   "execution_count": 5,
   "metadata": {
    "collapsed": true
   },
   "outputs": [],
   "source": [
    "def explode(indata):\n",
    "    \"\"\"Break down multipolygons in geojson to single polygons per row\"\"\"\n",
    "    indf = gpd.GeoDataFrame.from_file(indata)\n",
    "    outdf = gpd.GeoDataFrame(columns=indf.columns)\n",
    "    for idx, row in indf.iterrows():\n",
    "        if type(row.geometry) == Polygon:\n",
    "            outdf = outdf.append(row,ignore_index=True)\n",
    "        if type(row.geometry) == MultiPolygon:\n",
    "            multdf = gpd.GeoDataFrame(columns=indf.columns)\n",
    "            recs = len(row.geometry)\n",
    "            multdf = multdf.append([row]*recs,ignore_index=True)\n",
    "            for geom in range(recs):\n",
    "                multdf.loc[geom,'geometry'] = row.geometry[geom]\n",
    "            outdf = outdf.append(multdf,ignore_index=True)\n",
    "    return outdf\n",
    "\n",
    "# raw_shapes = explode(\"/Users/asiega/Desktop/NYCHA.geojson\")"
   ]
  },
  {
   "cell_type": "code",
   "execution_count": 6,
   "metadata": {
    "collapsed": true
   },
   "outputs": [],
   "source": [
    "def shapes_df(path):\n",
    "    raw_shapes = explode(path)\n",
    "    raw_shapes.crs = fiona.crs.from_epsg(EPSG)\n",
    "    zones = raw_shapes.to_crs(CRS)\n",
    "    return zones"
   ]
  },
  {
   "cell_type": "code",
   "execution_count": 7,
   "metadata": {
    "collapsed": false
   },
   "outputs": [],
   "source": [
    "shapes = shapes_df(\"/Users/asiega/Desktop/NYCHA.geojson\")"
   ]
  },
  {
   "cell_type": "code",
   "execution_count": null,
   "metadata": {
    "collapsed": false
   },
   "outputs": [],
   "source": [
    "people[\"geometry\"].sort_values().head()"
   ]
  },
  {
   "cell_type": "code",
   "execution_count": 9,
   "metadata": {
    "collapsed": false
   },
   "outputs": [
    {
     "data": {
      "text/plain": [
       "0    POLYGON ((-73.93559183347882 40.65949014265728...\n",
       "1    POLYGON ((-73.77692207729832 40.66568721649431...\n",
       "2    POLYGON ((-73.79065421549551 40.66843585296066...\n",
       "3    POLYGON ((-73.76820155521375 40.66907900074256...\n",
       "4    POLYGON ((-73.74246999481437 40.67015238507819...\n",
       "Name: geometry, dtype: object"
      ]
     },
     "execution_count": 9,
     "metadata": {},
     "output_type": "execute_result"
    }
   ],
   "source": [
    "shapes[\"geometry\"].head()"
   ]
  },
  {
   "cell_type": "code",
   "execution_count": null,
   "metadata": {
    "collapsed": false
   },
   "outputs": [],
   "source": [
    "len(shapes)"
   ]
  },
  {
   "cell_type": "code",
   "execution_count": 10,
   "metadata": {
    "collapsed": true
   },
   "outputs": [],
   "source": [
    "def merge_within(shapes, people):\n",
    "    merged = gpd.sjoin(people, shapes, how='left', op='within')\n",
    "    del merged['geometry']\n",
    "    del merged['index_right']\n",
    "    return merged.dropna()"
   ]
  },
  {
   "cell_type": "code",
   "execution_count": 14,
   "metadata": {
    "collapsed": false
   },
   "outputs": [],
   "source": [
    "merged_within = merge_within(shapes, people)"
   ]
  },
  {
   "cell_type": "code",
   "execution_count": 16,
   "metadata": {
    "collapsed": false
   },
   "outputs": [
    {
     "data": {
      "text/html": [
       "<div>\n",
       "<table border=\"1\" class=\"dataframe\">\n",
       "  <thead>\n",
       "    <tr style=\"text-align: right;\">\n",
       "      <th></th>\n",
       "      <th>Internal Contact ID</th>\n",
       "      <th>Latitude</th>\n",
       "      <th>Longitude</th>\n",
       "      <th>BOROUGH</th>\n",
       "      <th>CUR_UNIT11</th>\n",
       "      <th>DEVELOPMEN</th>\n",
       "      <th>NONRES_BLD</th>\n",
       "      <th>RES_BLDG</th>\n",
       "      <th>TDS_NUM</th>\n",
       "      <th>TOT_POP11</th>\n",
       "    </tr>\n",
       "  </thead>\n",
       "  <tbody>\n",
       "    <tr>\n",
       "      <th>89</th>\n",
       "      <td>912</td>\n",
       "      <td>40.717385</td>\n",
       "      <td>-73.978243</td>\n",
       "      <td>MANHATTAN</td>\n",
       "      <td>2194.0</td>\n",
       "      <td>BARUCH</td>\n",
       "      <td>1.0</td>\n",
       "      <td>17.0</td>\n",
       "      <td>060</td>\n",
       "      <td>5274.0</td>\n",
       "    </tr>\n",
       "    <tr>\n",
       "      <th>94</th>\n",
       "      <td>917</td>\n",
       "      <td>40.694176</td>\n",
       "      <td>-73.981118</td>\n",
       "      <td>BROOKLYN</td>\n",
       "      <td>1826.0</td>\n",
       "      <td>INGERSOLL</td>\n",
       "      <td>1.0</td>\n",
       "      <td>20.0</td>\n",
       "      <td>014</td>\n",
       "      <td>3227.0</td>\n",
       "    </tr>\n",
       "    <tr>\n",
       "      <th>168</th>\n",
       "      <td>1092</td>\n",
       "      <td>40.791862</td>\n",
       "      <td>-73.969814</td>\n",
       "      <td>MANHATTAN</td>\n",
       "      <td>70.0</td>\n",
       "      <td>WSUR (SITE A) 120 WEST 94TH STREET</td>\n",
       "      <td>0.0</td>\n",
       "      <td>1.0</td>\n",
       "      <td>151</td>\n",
       "      <td>154.0</td>\n",
       "    </tr>\n",
       "    <tr>\n",
       "      <th>169</th>\n",
       "      <td>1093</td>\n",
       "      <td>40.790859</td>\n",
       "      <td>-73.967413</td>\n",
       "      <td>MANHATTAN</td>\n",
       "      <td>40.0</td>\n",
       "      <td>REHAB PROGRAM (WISE REHAB)</td>\n",
       "      <td>0.0</td>\n",
       "      <td>1.0</td>\n",
       "      <td>517</td>\n",
       "      <td>63.0</td>\n",
       "    </tr>\n",
       "    <tr>\n",
       "      <th>170</th>\n",
       "      <td>1094</td>\n",
       "      <td>40.884713</td>\n",
       "      <td>-73.843554</td>\n",
       "      <td>BRONX</td>\n",
       "      <td>2035.0</td>\n",
       "      <td>EDENWALD</td>\n",
       "      <td>2.0</td>\n",
       "      <td>40.0</td>\n",
       "      <td>057</td>\n",
       "      <td>5181.0</td>\n",
       "    </tr>\n",
       "  </tbody>\n",
       "</table>\n",
       "</div>"
      ],
      "text/plain": [
       "     Internal Contact ID   Latitude  Longitude    BOROUGH  CUR_UNIT11  \\\n",
       "89                   912  40.717385 -73.978243  MANHATTAN      2194.0   \n",
       "94                   917  40.694176 -73.981118   BROOKLYN      1826.0   \n",
       "168                 1092  40.791862 -73.969814  MANHATTAN        70.0   \n",
       "169                 1093  40.790859 -73.967413  MANHATTAN        40.0   \n",
       "170                 1094  40.884713 -73.843554      BRONX      2035.0   \n",
       "\n",
       "                             DEVELOPMEN  NONRES_BLD  RES_BLDG TDS_NUM  \\\n",
       "89                               BARUCH         1.0      17.0     060   \n",
       "94                            INGERSOLL         1.0      20.0     014   \n",
       "168  WSUR (SITE A) 120 WEST 94TH STREET         0.0       1.0     151   \n",
       "169          REHAB PROGRAM (WISE REHAB)         0.0       1.0     517   \n",
       "170                            EDENWALD         2.0      40.0     057   \n",
       "\n",
       "     TOT_POP11  \n",
       "89      5274.0  \n",
       "94      3227.0  \n",
       "168      154.0  \n",
       "169       63.0  \n",
       "170     5181.0  "
      ]
     },
     "execution_count": 16,
     "metadata": {},
     "output_type": "execute_result"
    }
   ],
   "source": [
    "merged_within.head()"
   ]
  },
  {
   "cell_type": "code",
   "execution_count": null,
   "metadata": {
    "collapsed": false
   },
   "outputs": [],
   "source": [
    "merged_within.to_csv(\"/Users/asiega/Desktop/preliminary_merge.csv\")"
   ]
  },
  {
   "cell_type": "code",
   "execution_count": null,
   "metadata": {
    "collapsed": true
   },
   "outputs": [],
   "source": [
    "## TEST SAMPLE DATA"
   ]
  },
  {
   "cell_type": "code",
   "execution_count": 22,
   "metadata": {
    "collapsed": true
   },
   "outputs": [],
   "source": [
    "json_shapes = shapes_df(\"sample_data/shapes/nycha.json\")"
   ]
  },
  {
   "cell_type": "code",
   "execution_count": 23,
   "metadata": {
    "collapsed": false
   },
   "outputs": [
    {
     "data": {
      "text/html": [
       "<div>\n",
       "<table border=\"1\" class=\"dataframe\">\n",
       "  <thead>\n",
       "    <tr style=\"text-align: right;\">\n",
       "      <th></th>\n",
       "      <th>BoroCD</th>\n",
       "      <th>Shape_Area</th>\n",
       "      <th>Shape_Leng</th>\n",
       "      <th>geometry</th>\n",
       "    </tr>\n",
       "  </thead>\n",
       "  <tbody>\n",
       "    <tr>\n",
       "      <th>0</th>\n",
       "      <td>311.0</td>\n",
       "      <td>1.031759e+08</td>\n",
       "      <td>51566.989012</td>\n",
       "      <td>POLYGON ((-73.97299433938896 40.60881414180223...</td>\n",
       "    </tr>\n",
       "    <tr>\n",
       "      <th>1</th>\n",
       "      <td>412.0</td>\n",
       "      <td>2.673336e+08</td>\n",
       "      <td>65933.851319</td>\n",
       "      <td>POLYGON ((-73.80168266553365 40.66632235257088...</td>\n",
       "    </tr>\n",
       "    <tr>\n",
       "      <th>2</th>\n",
       "      <td>481.0</td>\n",
       "      <td>4.750313e+07</td>\n",
       "      <td>53795.119097</td>\n",
       "      <td>POLYGON ((-73.83591564875908 40.74343089339249...</td>\n",
       "    </tr>\n",
       "    <tr>\n",
       "      <th>3</th>\n",
       "      <td>314.0</td>\n",
       "      <td>8.217567e+07</td>\n",
       "      <td>49291.791191</td>\n",
       "      <td>POLYGON ((-73.95630035122711 40.65504828183112...</td>\n",
       "    </tr>\n",
       "    <tr>\n",
       "      <th>4</th>\n",
       "      <td>313.0</td>\n",
       "      <td>8.814953e+07</td>\n",
       "      <td>65746.939737</td>\n",
       "      <td>POLYGON ((-73.98372152615246 40.59582107821704...</td>\n",
       "    </tr>\n",
       "  </tbody>\n",
       "</table>\n",
       "</div>"
      ],
      "text/plain": [
       "   BoroCD    Shape_Area    Shape_Leng  \\\n",
       "0   311.0  1.031759e+08  51566.989012   \n",
       "1   412.0  2.673336e+08  65933.851319   \n",
       "2   481.0  4.750313e+07  53795.119097   \n",
       "3   314.0  8.217567e+07  49291.791191   \n",
       "4   313.0  8.814953e+07  65746.939737   \n",
       "\n",
       "                                            geometry  \n",
       "0  POLYGON ((-73.97299433938896 40.60881414180223...  \n",
       "1  POLYGON ((-73.80168266553365 40.66632235257088...  \n",
       "2  POLYGON ((-73.83591564875908 40.74343089339249...  \n",
       "3  POLYGON ((-73.95630035122711 40.65504828183112...  \n",
       "4  POLYGON ((-73.98372152615246 40.59582107821704...  "
      ]
     },
     "execution_count": 23,
     "metadata": {},
     "output_type": "execute_result"
    }
   ],
   "source": [
    "json_shapes.head()"
   ]
  },
  {
   "cell_type": "code",
   "execution_count": 24,
   "metadata": {
    "collapsed": true
   },
   "outputs": [],
   "source": [
    "sample_people = people_df(\"sample_data/people/cvh_people.csv\")"
   ]
  },
  {
   "cell_type": "code",
   "execution_count": 25,
   "metadata": {
    "collapsed": false
   },
   "outputs": [
    {
     "data": {
      "text/html": [
       "<div>\n",
       "<table border=\"1\" class=\"dataframe\">\n",
       "  <thead>\n",
       "    <tr style=\"text-align: right;\">\n",
       "      <th></th>\n",
       "      <th>Internal Contact ID</th>\n",
       "      <th>Latitude</th>\n",
       "      <th>Longitude</th>\n",
       "      <th>geometry</th>\n",
       "    </tr>\n",
       "  </thead>\n",
       "  <tbody>\n",
       "    <tr>\n",
       "      <th>0</th>\n",
       "      <td>5</td>\n",
       "      <td>40.687482</td>\n",
       "      <td>-73.963384</td>\n",
       "      <td>POINT (-73.96338399999999 40.687482)</td>\n",
       "    </tr>\n",
       "    <tr>\n",
       "      <th>1</th>\n",
       "      <td>226</td>\n",
       "      <td>40.769909</td>\n",
       "      <td>-73.992111</td>\n",
       "      <td>POINT (-73.99211099999999 40.76990900000001)</td>\n",
       "    </tr>\n",
       "    <tr>\n",
       "      <th>2</th>\n",
       "      <td>228</td>\n",
       "      <td>40.746794</td>\n",
       "      <td>-73.982509</td>\n",
       "      <td>POINT (-73.9825089 40.7467938)</td>\n",
       "    </tr>\n",
       "    <tr>\n",
       "      <th>3</th>\n",
       "      <td>230</td>\n",
       "      <td>40.823687</td>\n",
       "      <td>-73.868344</td>\n",
       "      <td>POINT (-73.86834350000001 40.8236871)</td>\n",
       "    </tr>\n",
       "    <tr>\n",
       "      <th>4</th>\n",
       "      <td>232</td>\n",
       "      <td>40.760444</td>\n",
       "      <td>-73.973270</td>\n",
       "      <td>POINT (-73.97327 40.760444)</td>\n",
       "    </tr>\n",
       "  </tbody>\n",
       "</table>\n",
       "</div>"
      ],
      "text/plain": [
       "   Internal Contact ID   Latitude  Longitude  \\\n",
       "0                    5  40.687482 -73.963384   \n",
       "1                  226  40.769909 -73.992111   \n",
       "2                  228  40.746794 -73.982509   \n",
       "3                  230  40.823687 -73.868344   \n",
       "4                  232  40.760444 -73.973270   \n",
       "\n",
       "                                       geometry  \n",
       "0          POINT (-73.96338399999999 40.687482)  \n",
       "1  POINT (-73.99211099999999 40.76990900000001)  \n",
       "2                POINT (-73.9825089 40.7467938)  \n",
       "3         POINT (-73.86834350000001 40.8236871)  \n",
       "4                   POINT (-73.97327 40.760444)  "
      ]
     },
     "execution_count": 25,
     "metadata": {},
     "output_type": "execute_result"
    }
   ],
   "source": [
    "sample_people.head()"
   ]
  },
  {
   "cell_type": "code",
   "execution_count": 29,
   "metadata": {
    "collapsed": true
   },
   "outputs": [],
   "source": [
    "sample_results = merge_within(json_shapes, sample_people)\n",
    "sample_r = intersect.merge(json_shapes, sample_people)"
   ]
  },
  {
   "cell_type": "code",
   "execution_count": 30,
   "metadata": {
    "collapsed": false
   },
   "outputs": [
    {
     "data": {
      "text/html": [
       "<div>\n",
       "<table border=\"1\" class=\"dataframe\">\n",
       "  <thead>\n",
       "    <tr style=\"text-align: right;\">\n",
       "      <th></th>\n",
       "      <th>Internal Contact ID</th>\n",
       "      <th>Latitude</th>\n",
       "      <th>Longitude</th>\n",
       "      <th>BoroCD</th>\n",
       "      <th>Shape_Area</th>\n",
       "      <th>Shape_Leng</th>\n",
       "    </tr>\n",
       "  </thead>\n",
       "  <tbody>\n",
       "    <tr>\n",
       "      <th>0</th>\n",
       "      <td>5</td>\n",
       "      <td>40.687482</td>\n",
       "      <td>-73.963384</td>\n",
       "      <td>302.0</td>\n",
       "      <td>7.932962e+07</td>\n",
       "      <td>74177.748868</td>\n",
       "    </tr>\n",
       "    <tr>\n",
       "      <th>1</th>\n",
       "      <td>226</td>\n",
       "      <td>40.769909</td>\n",
       "      <td>-73.992111</td>\n",
       "      <td>104.0</td>\n",
       "      <td>4.929184e+07</td>\n",
       "      <td>67935.227103</td>\n",
       "    </tr>\n",
       "    <tr>\n",
       "      <th>2</th>\n",
       "      <td>228</td>\n",
       "      <td>40.746794</td>\n",
       "      <td>-73.982509</td>\n",
       "      <td>105.0</td>\n",
       "      <td>4.379050e+07</td>\n",
       "      <td>35291.343877</td>\n",
       "    </tr>\n",
       "    <tr>\n",
       "      <th>3</th>\n",
       "      <td>230</td>\n",
       "      <td>40.823687</td>\n",
       "      <td>-73.868344</td>\n",
       "      <td>209.0</td>\n",
       "      <td>1.142655e+08</td>\n",
       "      <td>62240.858104</td>\n",
       "    </tr>\n",
       "    <tr>\n",
       "      <th>4</th>\n",
       "      <td>232</td>\n",
       "      <td>40.760444</td>\n",
       "      <td>-73.973270</td>\n",
       "      <td>105.0</td>\n",
       "      <td>4.379050e+07</td>\n",
       "      <td>35291.343877</td>\n",
       "    </tr>\n",
       "  </tbody>\n",
       "</table>\n",
       "</div>"
      ],
      "text/plain": [
       "   Internal Contact ID   Latitude  Longitude  BoroCD    Shape_Area  \\\n",
       "0                    5  40.687482 -73.963384   302.0  7.932962e+07   \n",
       "1                  226  40.769909 -73.992111   104.0  4.929184e+07   \n",
       "2                  228  40.746794 -73.982509   105.0  4.379050e+07   \n",
       "3                  230  40.823687 -73.868344   209.0  1.142655e+08   \n",
       "4                  232  40.760444 -73.973270   105.0  4.379050e+07   \n",
       "\n",
       "     Shape_Leng  \n",
       "0  74177.748868  \n",
       "1  67935.227103  \n",
       "2  35291.343877  \n",
       "3  62240.858104  \n",
       "4  35291.343877  "
      ]
     },
     "execution_count": 30,
     "metadata": {},
     "output_type": "execute_result"
    }
   ],
   "source": [
    "sample_results.head()"
   ]
  },
  {
   "cell_type": "code",
   "execution_count": 31,
   "metadata": {
    "collapsed": false
   },
   "outputs": [
    {
     "data": {
      "text/html": [
       "<div>\n",
       "<table border=\"1\" class=\"dataframe\">\n",
       "  <thead>\n",
       "    <tr style=\"text-align: right;\">\n",
       "      <th></th>\n",
       "      <th>Internal Contact ID</th>\n",
       "      <th>Latitude</th>\n",
       "      <th>Longitude</th>\n",
       "      <th>BoroCD</th>\n",
       "      <th>Shape_Area</th>\n",
       "      <th>Shape_Leng</th>\n",
       "    </tr>\n",
       "  </thead>\n",
       "  <tbody>\n",
       "    <tr>\n",
       "      <th>0</th>\n",
       "      <td>5</td>\n",
       "      <td>40.687482</td>\n",
       "      <td>-73.963384</td>\n",
       "      <td>302.0</td>\n",
       "      <td>7.932962e+07</td>\n",
       "      <td>74177.748868</td>\n",
       "    </tr>\n",
       "    <tr>\n",
       "      <th>1</th>\n",
       "      <td>226</td>\n",
       "      <td>40.769909</td>\n",
       "      <td>-73.992111</td>\n",
       "      <td>104.0</td>\n",
       "      <td>4.929184e+07</td>\n",
       "      <td>67935.227103</td>\n",
       "    </tr>\n",
       "    <tr>\n",
       "      <th>2</th>\n",
       "      <td>228</td>\n",
       "      <td>40.746794</td>\n",
       "      <td>-73.982509</td>\n",
       "      <td>105.0</td>\n",
       "      <td>4.379050e+07</td>\n",
       "      <td>35291.343877</td>\n",
       "    </tr>\n",
       "    <tr>\n",
       "      <th>3</th>\n",
       "      <td>230</td>\n",
       "      <td>40.823687</td>\n",
       "      <td>-73.868344</td>\n",
       "      <td>209.0</td>\n",
       "      <td>1.142655e+08</td>\n",
       "      <td>62240.858104</td>\n",
       "    </tr>\n",
       "    <tr>\n",
       "      <th>4</th>\n",
       "      <td>232</td>\n",
       "      <td>40.760444</td>\n",
       "      <td>-73.973270</td>\n",
       "      <td>105.0</td>\n",
       "      <td>4.379050e+07</td>\n",
       "      <td>35291.343877</td>\n",
       "    </tr>\n",
       "  </tbody>\n",
       "</table>\n",
       "</div>"
      ],
      "text/plain": [
       "   Internal Contact ID   Latitude  Longitude  BoroCD    Shape_Area  \\\n",
       "0                    5  40.687482 -73.963384   302.0  7.932962e+07   \n",
       "1                  226  40.769909 -73.992111   104.0  4.929184e+07   \n",
       "2                  228  40.746794 -73.982509   105.0  4.379050e+07   \n",
       "3                  230  40.823687 -73.868344   209.0  1.142655e+08   \n",
       "4                  232  40.760444 -73.973270   105.0  4.379050e+07   \n",
       "\n",
       "     Shape_Leng  \n",
       "0  74177.748868  \n",
       "1  67935.227103  \n",
       "2  35291.343877  \n",
       "3  62240.858104  \n",
       "4  35291.343877  "
      ]
     },
     "execution_count": 31,
     "metadata": {},
     "output_type": "execute_result"
    }
   ],
   "source": [
    "sample_r.head()"
   ]
  },
  {
   "cell_type": "code",
   "execution_count": null,
   "metadata": {
    "collapsed": false
   },
   "outputs": [],
   "source": [
    "raw_shapes.crs = CRS\n",
    "zones = raw_shapes.to_crs(people.crs)"
   ]
  },
  {
   "cell_type": "code",
   "execution_count": null,
   "metadata": {
    "collapsed": false
   },
   "outputs": [],
   "source": [
    "zones.head()"
   ]
  },
  {
   "cell_type": "code",
   "execution_count": null,
   "metadata": {
    "collapsed": false
   },
   "outputs": [],
   "source": [
    "places[\"geometry\"].head()\n",
    "# if you explore here, you notice that with to_crs, every polygon value becomes \"inf\""
   ]
  },
  {
   "cell_type": "code",
   "execution_count": null,
   "metadata": {
    "collapsed": false
   },
   "outputs": [],
   "source": [
    "# this runs fine, but...\n",
    "places.iloc[0]"
   ]
  },
  {
   "cell_type": "code",
   "execution_count": null,
   "metadata": {
    "collapsed": true
   },
   "outputs": [],
   "source": [
    "# this kills my kernel (Py root)\n",
    "places.iloc[0][\"geometry\"]"
   ]
  },
  {
   "cell_type": "code",
   "execution_count": null,
   "metadata": {
    "collapsed": false
   },
   "outputs": [],
   "source": [
    "for geo in places[\"geometry\"]:\n",
    "    print geo[0]\n",
    "    print \"\\n\"\n",
    "    print geo.bounds[0]\n",
    "    break"
   ]
  },
  {
   "cell_type": "markdown",
   "metadata": {},
   "source": [
    "### Compare json & geojson inputs"
   ]
  },
  {
   "cell_type": "code",
   "execution_count": null,
   "metadata": {
    "collapsed": false
   },
   "outputs": [],
   "source": [
    "raw_json = gpd.read_file(\"sample_data/shapes/nycha.json\")"
   ]
  },
  {
   "cell_type": "code",
   "execution_count": null,
   "metadata": {
    "collapsed": false
   },
   "outputs": [],
   "source": [
    "raw_json[\"geometry\"].head()"
   ]
  },
  {
   "cell_type": "code",
   "execution_count": null,
   "metadata": {
    "collapsed": false
   },
   "outputs": [],
   "source": [
    "raw_places[\"geometry\"].head()"
   ]
  },
  {
   "cell_type": "code",
   "execution_count": null,
   "metadata": {
    "collapsed": false
   },
   "outputs": [],
   "source": [
    "# multipolygon vs regular polygon\n",
    "\n",
    "raw_places[\"geometry\"]"
   ]
  },
  {
   "cell_type": "code",
   "execution_count": null,
   "metadata": {
    "collapsed": false
   },
   "outputs": [],
   "source": [
    "EPSG = 2263\n",
    "\n",
    "CRS = {\n",
    "    'proj': 'latlong',\n",
    "    'init': 'epsg:{:d}'.format(EPSG)\n",
    "}\n",
    "\n",
    "zones = exploded_df.to_crs(fiona.crs.from_epsg(EPSG))\n",
    "zones_crs = zones.to_crs(CRS)"
   ]
  },
  {
   "cell_type": "code",
   "execution_count": null,
   "metadata": {
    "collapsed": false
   },
   "outputs": [],
   "source": [
    "zones_crs.head()"
   ]
  },
  {
   "cell_type": "code",
   "execution_count": null,
   "metadata": {
    "collapsed": false
   },
   "outputs": [],
   "source": [
    "exp_head = exploded_df.head(50)\n",
    "\n",
    "merged_df = intersect.merge(exp_head, people)"
   ]
  },
  {
   "cell_type": "code",
   "execution_count": null,
   "metadata": {
    "collapsed": true
   },
   "outputs": [],
   "source": []
  }
 ],
 "metadata": {
  "anaconda-cloud": {},
  "kernelspec": {
   "display_name": "Python [default]",
   "language": "python",
   "name": "python2"
  },
  "language_info": {
   "codemirror_mode": {
    "name": "ipython",
    "version": 2
   },
   "file_extension": ".py",
   "mimetype": "text/x-python",
   "name": "python",
   "nbconvert_exporter": "python",
   "pygments_lexer": "ipython2",
   "version": "2.7.12"
  }
 },
 "nbformat": 4,
 "nbformat_minor": 1
}
